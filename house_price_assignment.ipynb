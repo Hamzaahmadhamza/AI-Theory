{
 "cells": [
  {
   "cell_type": "markdown",
   "id": "600525a0",
   "metadata": {},
   "source": [
    "# House Prices Prediction Project 📊🏠\n",
    "Following the assignment instructions step by step."
   ]
  },
  {
   "cell_type": "code",
   "execution_count": null,
   "id": "3e457e79",
   "metadata": {},
   "outputs": [],
   "source": [
    "import pandas as pd\n",
    "from sklearn.model_selection import train_test_split\n",
    "from sklearn.linear_model import LinearRegression\n",
    "from sklearn.metrics import mean_squared_error, r2_score\n",
    "import joblib"
   ]
  },
  {
   "cell_type": "code",
   "execution_count": null,
   "id": "9499668a",
   "metadata": {},
   "outputs": [],
   "source": [
    "# 1. Load Dataset (House Prices CSV from Kaggle)\n",
    "# Make sure you have 'house_prices.csv' in the same folder.\n",
    "df = pd.read_csv(\"house_prices.csv\")\n",
    "df.head()"
   ]
  },
  {
   "cell_type": "code",
   "execution_count": null,
   "id": "3250b795",
   "metadata": {},
   "outputs": [],
   "source": [
    "# 2. Data Cleaning\n",
    "print(\"Checking for missing values:\")\n",
    "print(df.isnull().sum())\n",
    "\n",
    "# Drop columns with too many missing values (example: 'Alley')\n",
    "df = df.drop(columns=['Alley'], errors='ignore')\n",
    "\n",
    "# Fill numeric missing values with median\n",
    "df = df.fillna(df.median(numeric_only=True))\n",
    "\n",
    "# Convert categorical variables using one-hot encoding\n",
    "df = pd.get_dummies(df, drop_first=True)\n",
    "df.head()"
   ]
  },
  {
   "cell_type": "code",
   "execution_count": null,
   "id": "8539a248",
   "metadata": {},
   "outputs": [],
   "source": [
    "# 3. Split dataset\n",
    "X = df.drop('SalePrice', axis=1)\n",
    "y = df['SalePrice']\n",
    "X_train, X_test, y_train, y_test = train_test_split(X, y, test_size=0.2, random_state=42)"
   ]
  },
  {
   "cell_type": "code",
   "execution_count": null,
   "id": "38891e99",
   "metadata": {},
   "outputs": [],
   "source": [
    "# 4. Train model\n",
    "model = LinearRegression()\n",
    "model.fit(X_train, y_train)"
   ]
  },
  {
   "cell_type": "code",
   "execution_count": null,
   "id": "9322020f",
   "metadata": {},
   "outputs": [],
   "source": [
    "# 5. Evaluate model\n",
    "y_pred = model.predict(X_test)\n",
    "print(\"\\nModel Performance:\")\n",
    "print(\"MSE:\", mean_squared_error(y_test, y_pred))\n",
    "print(\"R2 Score:\", r2_score(y_test, y_pred))"
   ]
  },
  {
   "cell_type": "code",
   "execution_count": null,
   "id": "800bd195",
   "metadata": {},
   "outputs": [],
   "source": [
    "# 6. Save model\n",
    "joblib.dump(model, \"house_price_model.pkl\")\n",
    "print(\"\\nModel saved as house_price_model.pkl\")"
   ]
  },
  {
   "cell_type": "code",
   "execution_count": null,
   "id": "5933d28b",
   "metadata": {},
   "outputs": [],
   "source": [
    "# 7. Simple Application Function\n",
    "def predict_price(features):\n",
    "    \"\"\"\n",
    "    features: DataFrame row with same structure as training X\n",
    "    \"\"\"\n",
    "    loaded_model = joblib.load(\"house_price_model.pkl\")\n",
    "    prediction = loaded_model.predict(features)[0]\n",
    "    return prediction\n",
    "\n",
    "# Example usage (using first row from dataset)\n",
    "example_features = X.iloc[[0]]\n",
    "print(\"\\nPrediction for example house:\", predict_price(example_features))"
   ]
  }
 ],
 "metadata": {
  "kernelspec": {
   "display_name": "Python 3",
   "language": "python",
   "name": "python3"
  },
  "language_info": {
   "codemirror_mode": {
    "name": "ipython",
    "version": 3
   },
   "file_extension": ".py",
   "mimetype": "text/x-python",
   "name": "python",
   "nbconvert_exporter": "python",
   "pygments_lexer": "ipython3",
   "version": "3.11.9"
  }
 },
 "nbformat": 4,
 "nbformat_minor": 5
}
